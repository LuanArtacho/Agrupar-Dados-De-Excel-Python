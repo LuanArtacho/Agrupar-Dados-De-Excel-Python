{
 "cells": [
  {
   "cell_type": "code",
   "execution_count": 4,
   "metadata": {},
   "outputs": [
    {
     "name": "stdout",
     "output_type": "stream",
     "text": [
      "Collecting pandas\n",
      "  Downloading pandas-1.5.3-cp311-cp311-win_amd64.whl (10.3 MB)\n",
      "     ---------------------------------------- 10.3/10.3 MB 5.8 MB/s eta 0:00:00\n",
      "Requirement already satisfied: python-dateutil>=2.8.1 in c:\\users\\luanzera\\appdata\\roaming\\python\\python311\\site-packages (from pandas) (2.8.2)\n",
      "Collecting pytz>=2020.1\n",
      "  Downloading pytz-2022.7.1-py2.py3-none-any.whl (499 kB)\n",
      "     ------------------------------------- 499.4/499.4 kB 15.8 MB/s eta 0:00:00\n",
      "Collecting numpy>=1.21.0\n",
      "  Downloading numpy-1.24.2-cp311-cp311-win_amd64.whl (14.8 MB)\n",
      "     ---------------------------------------- 14.8/14.8 MB 5.9 MB/s eta 0:00:00\n",
      "Requirement already satisfied: six>=1.5 in c:\\users\\luanzera\\appdata\\roaming\\python\\python311\\site-packages (from python-dateutil>=2.8.1->pandas) (1.16.0)\n",
      "Installing collected packages: pytz, numpy, pandas\n",
      "Successfully installed numpy-1.24.2 pandas-1.5.3 pytz-2022.7.1\n"
     ]
    },
    {
     "name": "stderr",
     "output_type": "stream",
     "text": [
      "\n",
      "[notice] A new release of pip available: 22.3.1 -> 23.0.1\n",
      "[notice] To update, run: python.exe -m pip install --upgrade pip\n"
     ]
    }
   ],
   "source": [
    "!pip install pandas"
   ]
  },
  {
   "cell_type": "code",
   "execution_count": 6,
   "metadata": {},
   "outputs": [
    {
     "name": "stdout",
     "output_type": "stream",
     "text": [
      "Collecting openpyxl"
     ]
    },
    {
     "name": "stderr",
     "output_type": "stream",
     "text": [
      "\n",
      "[notice] A new release of pip available: 22.3.1 -> 23.0.1\n",
      "[notice] To update, run: python.exe -m pip install --upgrade pip\n"
     ]
    },
    {
     "name": "stdout",
     "output_type": "stream",
     "text": [
      "\n",
      "  Downloading openpyxl-3.1.1-py2.py3-none-any.whl (249 kB)\n",
      "     -------------------------------------- 249.8/249.8 kB 3.8 MB/s eta 0:00:00\n",
      "Collecting et-xmlfile\n",
      "  Downloading et_xmlfile-1.1.0-py3-none-any.whl (4.7 kB)\n",
      "Installing collected packages: et-xmlfile, openpyxl\n",
      "Successfully installed et-xmlfile-1.1.0 openpyxl-3.1.1\n"
     ]
    }
   ],
   "source": [
    "!pip install openpyxl"
   ]
  },
  {
   "cell_type": "code",
   "execution_count": 13,
   "metadata": {},
   "outputs": [],
   "source": [
    "import pandas as pd\n",
    "from openpyxl import load_workbook\n",
    "import os\n",
    "\n",
    "dir_base = \"C:/Users/luanzera/Desktop/Estudos/Task BBA - Juntar dados excel/2022/\"\n"
   ]
  },
  {
   "cell_type": "code",
   "execution_count": 14,
   "metadata": {},
   "outputs": [
    {
     "name": "stderr",
     "output_type": "stream",
     "text": [
      "C:\\Users\\luanzera\\AppData\\Local\\Temp\\ipykernel_1852\\4148622088.py:17: FutureWarning: The frame.append method is deprecated and will be removed from pandas in a future version. Use pandas.concat instead.\n",
      "  df = df.append({\"Arquivo\": dia, \"Qtd de Lastro\": qtd_lastro, \"Saldo de Lastro\": saldo_lastro, \"Valor\": valor}, ignore_index=True)\n",
      "C:\\Users\\luanzera\\AppData\\Local\\Temp\\ipykernel_1852\\4148622088.py:17: FutureWarning: The frame.append method is deprecated and will be removed from pandas in a future version. Use pandas.concat instead.\n",
      "  df = df.append({\"Arquivo\": dia, \"Qtd de Lastro\": qtd_lastro, \"Saldo de Lastro\": saldo_lastro, \"Valor\": valor}, ignore_index=True)\n",
      "C:\\Users\\luanzera\\AppData\\Local\\Temp\\ipykernel_1852\\4148622088.py:17: FutureWarning: The frame.append method is deprecated and will be removed from pandas in a future version. Use pandas.concat instead.\n",
      "  df = df.append({\"Arquivo\": dia, \"Qtd de Lastro\": qtd_lastro, \"Saldo de Lastro\": saldo_lastro, \"Valor\": valor}, ignore_index=True)\n",
      "C:\\Users\\luanzera\\AppData\\Local\\Temp\\ipykernel_1852\\4148622088.py:17: FutureWarning: The frame.append method is deprecated and will be removed from pandas in a future version. Use pandas.concat instead.\n",
      "  df = df.append({\"Arquivo\": dia, \"Qtd de Lastro\": qtd_lastro, \"Saldo de Lastro\": saldo_lastro, \"Valor\": valor}, ignore_index=True)\n",
      "C:\\Users\\luanzera\\AppData\\Local\\Temp\\ipykernel_1852\\4148622088.py:17: FutureWarning: The frame.append method is deprecated and will be removed from pandas in a future version. Use pandas.concat instead.\n",
      "  df = df.append({\"Arquivo\": dia, \"Qtd de Lastro\": qtd_lastro, \"Saldo de Lastro\": saldo_lastro, \"Valor\": valor}, ignore_index=True)\n",
      "C:\\Users\\luanzera\\AppData\\Local\\Temp\\ipykernel_1852\\4148622088.py:17: FutureWarning: The frame.append method is deprecated and will be removed from pandas in a future version. Use pandas.concat instead.\n",
      "  df = df.append({\"Arquivo\": dia, \"Qtd de Lastro\": qtd_lastro, \"Saldo de Lastro\": saldo_lastro, \"Valor\": valor}, ignore_index=True)\n",
      "C:\\Users\\luanzera\\AppData\\Local\\Temp\\ipykernel_1852\\4148622088.py:17: FutureWarning: The frame.append method is deprecated and will be removed from pandas in a future version. Use pandas.concat instead.\n",
      "  df = df.append({\"Arquivo\": dia, \"Qtd de Lastro\": qtd_lastro, \"Saldo de Lastro\": saldo_lastro, \"Valor\": valor}, ignore_index=True)\n",
      "C:\\Users\\luanzera\\AppData\\Local\\Temp\\ipykernel_1852\\4148622088.py:17: FutureWarning: The frame.append method is deprecated and will be removed from pandas in a future version. Use pandas.concat instead.\n",
      "  df = df.append({\"Arquivo\": dia, \"Qtd de Lastro\": qtd_lastro, \"Saldo de Lastro\": saldo_lastro, \"Valor\": valor}, ignore_index=True)\n",
      "C:\\Users\\luanzera\\AppData\\Local\\Temp\\ipykernel_1852\\4148622088.py:17: FutureWarning: The frame.append method is deprecated and will be removed from pandas in a future version. Use pandas.concat instead.\n",
      "  df = df.append({\"Arquivo\": dia, \"Qtd de Lastro\": qtd_lastro, \"Saldo de Lastro\": saldo_lastro, \"Valor\": valor}, ignore_index=True)\n"
     ]
    }
   ],
   "source": [
    "\n",
    "df = pd.DataFrame(columns=[\"Arquivo\", \"Qtd de Lastro\", \"Saldo de Lastro\", \"Valor\"])\n",
    "\n",
    "for mes in sorted(os.listdir(dir_base)):\n",
    "    dir_mes = os.path.join(dir_base, mes)\n",
    "    if os.path.isdir(dir_mes):\n",
    "        for dia in sorted(os.listdir(dir_mes)):\n",
    "            if dia.endswith(\".xlsx\"):\n",
    "                arquivo = os.path.join(dir_mes, dia)\n",
    "                wb = load_workbook(filename=arquivo, read_only=True)\n",
    "                ws1 = wb.worksheets[0]\n",
    "                ws2 = wb.worksheets[1]\n",
    "                qtd_lastro = ws1[\"B3\"].value\n",
    "                saldo_lastro = ws1[\"E3\"].value\n",
    "                valor = ws2[\"G5\"].value\n",
    "\n",
    "                # adicionar as informações do arquivo ao DataFrame\n",
    "                df = df.append({\"Arquivo\": dia, \"Qtd de Lastro\": qtd_lastro, \"Saldo de Lastro\": saldo_lastro, \"Valor\": valor}, ignore_index=True)\n",
    "\n",
    "# salvar o DataFrame em um arquivo Excel\n",
    "df.to_excel(\"dados.xlsx\", index=False)\n"
   ]
  },
  {
   "cell_type": "code",
   "execution_count": 10,
   "metadata": {},
   "outputs": [],
   "source": []
  }
 ],
 "metadata": {
  "kernelspec": {
   "display_name": "Python 3",
   "language": "python",
   "name": "python3"
  },
  "language_info": {
   "codemirror_mode": {
    "name": "ipython",
    "version": 3
   },
   "file_extension": ".py",
   "mimetype": "text/x-python",
   "name": "python",
   "nbconvert_exporter": "python",
   "pygments_lexer": "ipython3",
   "version": "3.11.2 (tags/v3.11.2:878ead1, Feb  7 2023, 16:38:35) [MSC v.1934 64 bit (AMD64)]"
  },
  "orig_nbformat": 4,
  "vscode": {
   "interpreter": {
    "hash": "dbfda91510f23c36c829628de0a1c0450a561d6bf983e3a880f68eb1fe4ffe9e"
   }
  }
 },
 "nbformat": 4,
 "nbformat_minor": 2
}
